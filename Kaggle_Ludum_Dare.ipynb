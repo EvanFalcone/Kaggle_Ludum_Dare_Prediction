{
  "nbformat": 4,
  "nbformat_minor": 0,
  "metadata": {
    "colab": {
      "name": "Kaggle_20655500_yang.ipynb",
      "provenance": [],
      "collapsed_sections": []
    },
    "kernelspec": {
      "name": "python3",
      "display_name": "Python 3"
    },
    "accelerator": "GPU"
  },
  "cells": [
    {
      "cell_type": "code",
      "metadata": {
        "id": "f_Nk-nMJDeSL",
        "colab_type": "code",
        "colab": {}
      },
      "source": [
        "# Simeng Yang, 20655500\n",
        "# CS 480 S'20 Ludum Dare Kaggle Competition submission\n",
        "\n",
        "import lightgbm as lgbm\n",
        "\n",
        "import pandas as pd\n",
        "import numpy as np"
      ],
      "execution_count": 1,
      "outputs": []
    },
    {
      "cell_type": "code",
      "metadata": {
        "id": "FV9zaOoQDq_R",
        "colab_type": "code",
        "colab": {}
      },
      "source": [
        "# Fetch the training and test data from CSVs\n",
        "# When using Google Colab, you should wait for the CSV files\n",
        "# to be fully uploaded before trying to read the data\n",
        "# Otherwise, the CSV files won't be in a complete state\n",
        "# If data has been skipped, please restart the run\n",
        "\n",
        "def _get_data(test_path, train_path):\n",
        "    test_data = pd.read_csv(test_path, engine='python', error_bad_lines=False)\n",
        "    train_data = pd.read_csv(train_path, engine='python', error_bad_lines=False)\n",
        "\n",
        "    train_labels = train_data['label']\n",
        "    train_data.drop(['label'], axis=1, inplace=True)\n",
        "\n",
        "    return train_data, train_labels, test_data\n",
        "\n",
        "# Paths to train and test CSV files\n",
        "# These relative paths assume the CSV files are in the same directory as the Notebook\n",
        "test_path = \"test.csv\"\n",
        "train_path = \"train.csv\"\n",
        "\n",
        "train_data, train_labels, test_data = _get_data(test_path, train_path)\n",
        "\n",
        "# Store indices\n",
        "train_indices = train_data['id']\n",
        "test_indices = test_data['id']"
      ],
      "execution_count": 2,
      "outputs": []
    },
    {
      "cell_type": "code",
      "metadata": {
        "id": "dtiRU--UGftF",
        "colab_type": "code",
        "colab": {}
      },
      "source": [
        "# List of relevant features to train and predict on\n",
        "# audio-average and audio-rank etc. were not included,\n",
        "# due to ranking poorly in feature importance for the LGBM model \n",
        "\n",
        "relevant_cols = [\n",
        "  \"category\",\n",
        "  # \"num-comments\",\n",
        "  # \"feedback-karma\",\n",
        "  \"ratings-received\",\n",
        "\n",
        "  # \"num-authors\",\n",
        "  # \"prev-games\",  \n",
        "\n",
        "  \"fun-average\",\n",
        "  \"innovation-average\",\n",
        "  \"theme-average\",\n",
        "  \"graphics-average\",\n",
        "  # \"audio-average\",\n",
        "  \"humor-average\",\n",
        "  \"mood-average\",\n",
        "  \n",
        "  \"fun-rank\",\n",
        "  \"innovation-rank\",\n",
        "  \"theme-rank\",\n",
        "  \"graphics-rank\",\n",
        "  # \"audio-rank\",\n",
        "  \"humor-rank\",\n",
        "  \"mood-rank\",\n",
        "\n",
        "  \"competition-num\",\n",
        "\n",
        "  # # For NLP\n",
        "  # \"description\"\n",
        "]\n",
        "\n",
        "train_data = train_data[relevant_cols]\n",
        "test_data = test_data[relevant_cols]"
      ],
      "execution_count": 3,
      "outputs": []
    },
    {
      "cell_type": "code",
      "metadata": {
        "id": "6o-h5Gasxa5w",
        "colab_type": "code",
        "colab": {
          "base_uri": "https://localhost:8080/",
          "height": 171
        },
        "outputId": "bca6b4c0-05dd-4f97-adec-686635212a40"
      },
      "source": [
        "# # # # # # #\n",
        "# NLP START #\n",
        "# # # # # # #\n",
        "\n",
        "'''\n",
        "The idea behind the use of NLP here is to apply sentiment analysis to the\n",
        "descriptions of each game.\n",
        "\n",
        "The TextBlob library is used for extracting the sentiment polarity from\n",
        "each description, a score that varies from -1 to 1 for the most negative to\n",
        "the most positive sentiments. \n",
        "\n",
        "It was theorized that more positive game descriptions may have been weakly predictive\n",
        "of higher ratings for each game.\n",
        "\n",
        "However, this hypothesis was not substantially supported by the data, with\n",
        "the model performing slightly worse to indifferently with the \"sentiment_polarity\" feature than without.\n",
        "For instance, the accuracy on the validation set with \"sentiment_polarity\" may\n",
        "have been 0.9444, but was 0.9446 without \"sentiment_polarity\". \n",
        "Furthermore, the graph of feature importance from LGBM showed that \"sentiment_polarity\"\n",
        "did not explain much of the variance of the data. \n",
        "Therefore, it was decided to not include \"sentiment_polarity\" in the final model.\n",
        "'''\n",
        "# # To include \"sentiment_polarity\", uncomment these lines\n",
        "# \n",
        "# # import the necessary packages\n",
        "# import textblob\n",
        "# from bs4 import BeautifulSoup\n",
        "# import warnings\n",
        "# \n",
        "# warnings.filterwarnings(\"ignore\", category=UserWarning, module='bs4')\n",
        "# \n",
        "# # Remove HTML from each description\n",
        "# def clean_html(text):\n",
        "#   soup = BeautifulSoup(text, 'lxml')\n",
        "#   without_html = soup.get_text()\n",
        "#   return without_html\n",
        "\n",
        "# # Apply sentiment analysis towards descriptions in the training data\n",
        "# descriptions = train_data[\"description\"]\n",
        "# # Rudimentary data cleaning\n",
        "# descriptions = descriptions.apply(lambda x: str(x) if isinstance(x, float) else x)\n",
        "# descriptions = descriptions.apply(lambda x: clean_html(x))\n",
        "\n",
        "# # Compute sentiment polarity of each description\n",
        "# sentiment_polarity = [textblob.TextBlob(description).sentiment.polarity for description in descriptions]\n",
        "\n",
        "# # Apply sentiment analysis towards descriptions in the test data\n",
        "# descriptions = test_data[\"description\"]\n",
        "# # Rudimentary data cleaning\n",
        "# descriptions = descriptions.apply(lambda x: str(x) if isinstance(x, float) else x)\n",
        "# descriptions = descriptions.apply(lambda x: clean_html(x))\n",
        "\n",
        "# # Compute sentiment polarity of each description\n",
        "# sentiment_polarity = [textblob.TextBlob(description).sentiment.polarity for description in descriptions]\n",
        "\n",
        "# train_data.drop('description', axis=1, inplace=True)\n",
        "# test_data.drop('description', axis=1, inplace=True)\n",
        "# relevant_cols.remove('description')\n",
        "\n",
        "# train_data['sentiment_polarity'] = sentiment_polarity\n",
        "# test_data['sentiment_polarity'] = sentiment_polarity\n",
        "\n",
        "# relevant_cols += ['sentiment_polarity']\n",
        "\n",
        "# # # # # #\n",
        "# NLP END #\n",
        "# # # # # #"
      ],
      "execution_count": 4,
      "outputs": [
        {
          "output_type": "execute_result",
          "data": {
            "application/vnd.google.colaboratory.intrinsic+json": {
              "type": "string"
            },
            "text/plain": [
              "'\\nThe idea behind the use of NLP here is to apply sentiment analysis to the\\ndescriptions of each game.\\n\\nThe TextBlob library is used for extracting the sentiment polarity from\\neach description, a score that varies from -1 to 1 for the most negative to\\nthe most positive sentiments. \\n\\nIt was theorized that more positive game descriptions may have been weakly predictive\\nof higher ratings for each game.\\n\\nHowever, this hypothesis was not substantially supported by the data, with\\nthe model performing slightly worse to indifferently with the \"sentiment_polarity\" feature than without.\\nFor instance, the accuracy on the validation set with \"sentiment_polarity\" may\\nhave been 0.9444, but was 0.9446 without \"sentiment_polarity\". \\nFurthermore, the graph of feature importance from LGBM showed that \"sentiment_polarity\"\\ndid not explain much of the variance of the data. \\nTherefore, it was decided to not include \"sentiment_polarity\" in the final model.\\n'"
            ]
          },
          "metadata": {
            "tags": []
          },
          "execution_count": 4
        }
      ]
    },
    {
      "cell_type": "code",
      "metadata": {
        "id": "fwkzJsrR1zhJ",
        "colab_type": "code",
        "colab": {
          "base_uri": "https://localhost:8080/",
          "height": 188
        },
        "outputId": "e6632b10-3e2a-4863-ca5a-fd648276f0de"
      },
      "source": [
        "# # # # # # #\n",
        "# CV START  #\n",
        "# # # # # # #\n",
        "\n",
        "'''\n",
        "The idea behind the use of CV here is to compute the colorfulness of each thumbnail image per game.\n",
        "\n",
        "The OpenCV (cv2) library is used for computing the colorfulness rating from\n",
        "each thumbnail image, with a higher score indicating more colorful images, based on the RGB components of each image.\n",
        "\n",
        "It was theorized that more colorful game thumbnail images may have been weakly correlated\n",
        "with higher ratings for each game as a rough proxy for image aesthetic qualities.\n",
        "\n",
        "However, this hypothesis was not well substantiated by the data, with\n",
        "the model performing indifferently with the \"colorfulness\" feature than without in simulated train-validation splits.\n",
        "For instance, the accuracy on the validation set with \"colorfulness\" may\n",
        "have been 0.9466, but was also 0.9446 without \"colorfulness\". \n",
        "Furthermore, the graph of feature importance from LGBM showed that \"colorfulness\"\n",
        "ranked among the least explanatory features for the data. \n",
        "Therefore, it was decided to not include \"colorfulness\" in the final model.\n",
        "'''\n",
        "# # To include \"colourfulness\", uncomment these lines\n",
        "# # Please be aware that uploading all the images to a remote compute Notebook environment such as Google Colab\n",
        "# # may take a long time, so it may be better to try running the Notebook locally with all the files instead\n",
        "# \n",
        "# # import the necessary packages\n",
        "# import imutils\n",
        "# import cv2\n",
        "# import os\n",
        "# \n",
        "# # Adapted from https://www.pyimagesearch.com/2017/06/05/computing-image-colorfulness-with-opencv-and-python/\n",
        "# # Compute the colorfulness ratings for the thumbnails associated with the training and test indices,\n",
        "# # based on the approach detailed by Hasler and Süsstrunk’s in their 2003 paper, Measuring colorfulness in nature images.\n",
        "# def image_colorfulness(image):\n",
        "#     # split the image into its respective RGB components\n",
        "#     (B, G, R) = cv2.split(image.astype(\"float\"))\n",
        "#     # compute rg = R - G\n",
        "#     rg = np.absolute(R - G)\n",
        "#     # compute yb = 0.5 * (R + G) - B\n",
        "#     yb = np.absolute(0.5 * (R + G) - B)\n",
        "#     # compute the mean and standard deviation of both `rg` and `yb`\n",
        "#     (rbMean, rbStd) = (np.mean(rg), np.std(rg))\n",
        "#     (ybMean, ybStd) = (np.mean(yb), np.std(yb))\n",
        "#     # combine the mean and standard deviations\n",
        "#     stdRoot = np.sqrt((rbStd ** 2) + (ybStd ** 2))\n",
        "#     meanRoot = np.sqrt((rbMean ** 2) + (ybMean ** 2))\n",
        "#     # derive the \"colorfulness\" metric and return it\n",
        "#     return stdRoot + (0.3 * meanRoot)\n",
        "\n",
        "# # Relative location of the thumbnails\n",
        "# thumbnails = \"thumbnails/thumbnails/\"\n",
        "\n",
        "# colorfulness = []\n",
        "\n",
        "# # Iterate over each test index, try to find its associated thumbnail image\n",
        "# # and compute the colorfulness rating of that image\n",
        "# for test_index in test_indices:\n",
        "#     path = thumbnails + str(test_index) + \".jpg\"\n",
        "#     if os.path.exists(path):\n",
        "#         try:\n",
        "#             image = cv2.imread(path)\n",
        "#         except:\n",
        "#             colorfulness.append(-1)\n",
        "#             continue\n",
        "\n",
        "#         if image is None:\n",
        "#             colorfulness.append(-1)\n",
        "#             continue\n",
        "\n",
        "#         # resize image to speed up computation\n",
        "#         image = imutils.resize(image, width=250)\n",
        "#         C = image_colorfulness(image)\n",
        "#         colorfulness.append(C)\n",
        "#     else:\n",
        "#         colorfulness.append(-1)\n",
        "\n",
        "# print(\"Done with test images\")\n",
        "# test_data['colorfulness'] = colorfulness\n",
        "\n",
        "# colorfulness = []\n",
        "\n",
        "# # Iterate over each training index, try to find its associated thumbnail image\n",
        "# # and compute the colorfulness rating of that image\n",
        "# for train_index in train_indices:\n",
        "#     path = thumbnails + str(train_index) + \".jpg\"\n",
        "#     if os.path.exists(path):\n",
        "#         try:\n",
        "#             image = cv2.imread(path)\n",
        "#         except:\n",
        "#             colorfulness.append(-1)\n",
        "#             continue\n",
        "\n",
        "#         if image is None:\n",
        "#             colorfulness.append(-1)\n",
        "#             continue\n",
        "\n",
        "#         # resize image to speed up computation\n",
        "#         image = imutils.resize(image, width=250)\n",
        "#         C = image_colorfulness(image)\n",
        "#         colorfulness.append(C)\n",
        "#     else:\n",
        "#         colorfulness.append(-1)\n",
        "\n",
        "# print(\"Done with train images\")\n",
        "# train_data['colorfulness'] = colorfulness\n",
        "\n",
        "# relevant_cols += ['colorfulness']\n",
        "\n",
        "# # # # # #\n",
        "# CV END  #\n",
        "# # # # # #"
      ],
      "execution_count": 5,
      "outputs": [
        {
          "output_type": "execute_result",
          "data": {
            "application/vnd.google.colaboratory.intrinsic+json": {
              "type": "string"
            },
            "text/plain": [
              "'\\nThe idea behind the use of CV here is to compute the colorfulness of each thumbnail image per game.\\n\\nThe OpenCV (cv2) library is used for computing the colorfulness rating from\\neach thumbnail image, with a higher score indicating more colorful images, based on the RGB components of each image.\\n\\nIt was theorized that more colorful game thumbnail images may have been weakly correlated\\nwith higher ratings for each game as a rough proxy for image aesthetic qualities.\\n\\nHowever, this hypothesis was not well substantiated by the data, with\\nthe model performing indifferently with the \"colorfulness\" feature than without in simulated train-validation splits.\\nFor instance, the accuracy on the validation set with \"colorfulness\" may\\nhave been 0.9466, but was also 0.9446 without \"colorfulness\". \\nFurthermore, the graph of feature importance from LGBM showed that \"colorfulness\"\\nranked among the least explanatory features for the data. \\nTherefore, it was decided to not include \"colorfulness\" in the final model.\\n'"
            ]
          },
          "metadata": {
            "tags": []
          },
          "execution_count": 5
        }
      ]
    },
    {
      "cell_type": "code",
      "metadata": {
        "id": "rbHxMLBRuJhZ",
        "colab_type": "code",
        "colab": {}
      },
      "source": [
        "# Feature engineering:\n",
        "# Construct additional features for training and prediction, for scores and ranks\n",
        "# For the scores, example engineered features include the average, max and min of each\n",
        "# row of ratings etc. \n",
        "\n",
        "# For training data\n",
        "average_scores = train_data[[\n",
        "  \"fun-average\",\n",
        "  \"innovation-average\",\n",
        "  \"theme-average\",\n",
        "  \"graphics-average\",\n",
        "  # \"audio-average\",\n",
        "  \"humor-average\",\n",
        "  \"mood-average\",\n",
        "]]\n",
        "\n",
        "train_data['score_average'] = average_scores.replace(-1, np.NaN).mean(axis=1).apply(lambda x: np.log(x)).replace(np.NaN, -1)\n",
        "train_data['score_min'] = average_scores.replace(-1, np.NaN).min(axis=1).apply(lambda x: np.log(x)).replace(np.NaN, -1)\n",
        "train_data['score_max'] = average_scores.replace(-1, np.NaN).max(axis=1).apply(lambda x: np.log(x)).replace(np.NaN, -1)\n",
        "train_data['score_std'] = average_scores.replace(-1, np.NaN).std(axis=1).replace(np.NaN, -1)\n",
        "train_data['score_percentile'] = train_data[['score_average', 'competition-num', \"category\"]].replace(-1, np.NaN).groupby([\"category\", 'competition-num']).rank(pct=True, ascending=True).replace(np.NaN, -1)\n",
        "\n",
        "train_data[[\n",
        "  \"fun-average\",\n",
        "  \"innovation-average\",\n",
        "  \"theme-average\",\n",
        "  \"graphics-average\",\n",
        "  # \"audio-average\",\n",
        "  \"humor-average\",\n",
        "  \"mood-average\",\n",
        "]] = average_scores.replace(-1, np.NaN).apply(lambda x: np.log(x)).replace(np.NaN, -1)\n",
        "\n",
        "average_ranks = train_data[[\n",
        "  \"competition-num\",\n",
        "  \"category\",\n",
        "\n",
        "  \"fun-rank\",\n",
        "  \"innovation-rank\",\n",
        "  \"theme-rank\",\n",
        "  \"graphics-rank\",\n",
        "  # \"audio-rank\",\n",
        "  \"humor-rank\",\n",
        "  \"mood-rank\"\n",
        "]]\n",
        "\n",
        "# Scale the ranks with min-max scaling to being between 0 and 1\n",
        "average_ranks = average_ranks.replace(-1, np.NaN)\n",
        "average_ranks = average_ranks.groupby([\"competition-num\", \"category\"]).apply(lambda x: (x-x.min())/(x.max()-x.min()))\n",
        "average_ranks = average_ranks.replace(np.NaN, -1)\n",
        "\n",
        "train_data[[\n",
        "  \"fun-rank\",\n",
        "  \"innovation-rank\",\n",
        "  \"theme-rank\",\n",
        "  \"graphics-rank\",\n",
        "  # \"audio-rank\",\n",
        "  \"humor-rank\",\n",
        "  \"mood-rank\"\n",
        "]] = average_ranks\n",
        "\n",
        "# ----------\n",
        "\n",
        "# For the test data\n",
        "average_scores = test_data[[\n",
        "  \"fun-average\",\n",
        "  \"innovation-average\",\n",
        "  \"theme-average\",\n",
        "  \"graphics-average\",\n",
        "  # \"audio-average\",\n",
        "  \"humor-average\",\n",
        "  \"mood-average\",\n",
        "]]\n",
        "\n",
        "test_data['score_average'] = average_scores.replace(-1, np.NaN).mean(axis=1).apply(lambda x: np.log(x)).replace(np.NaN, -1)\n",
        "test_data['score_min'] = average_scores.replace(-1, np.NaN).min(axis=1).apply(lambda x: np.log(x)).replace(np.NaN, -1)\n",
        "test_data['score_max'] = average_scores.replace(-1, np.NaN).max(axis=1).apply(lambda x: np.log(x)).replace(np.NaN, -1)\n",
        "test_data['score_std'] = average_scores.replace(-1, np.NaN).std(axis=1).replace(np.NaN, -1)\n",
        "test_data['score_percentile'] = test_data[['score_average', 'competition-num', \"category\"]].replace(-1, np.NaN).groupby([\"category\", 'competition-num']).rank(pct=True, ascending=True).replace(np.NaN, -1)\n",
        "\n",
        "test_data[[\n",
        "  \"fun-average\",\n",
        "  \"innovation-average\",\n",
        "  \"theme-average\",\n",
        "  \"graphics-average\",\n",
        "  # \"audio-average\",\n",
        "  \"humor-average\",\n",
        "  \"mood-average\",\n",
        "]] = average_scores.replace(-1, np.NaN).apply(lambda x: np.log(x)).replace(np.NaN, -1)\n",
        "\n",
        "average_ranks = test_data[[\n",
        "  \"competition-num\",\n",
        "  \"category\",\n",
        "\n",
        "  \"fun-rank\",\n",
        "  \"innovation-rank\",\n",
        "  \"theme-rank\",\n",
        "  \"graphics-rank\",\n",
        "  # \"audio-rank\",\n",
        "  \"humor-rank\",\n",
        "  \"mood-rank\"\n",
        "]]\n",
        "\n",
        "# Scale the ranks with min-max scaling to being between 0 and 1\n",
        "average_ranks = average_ranks.replace(-1, np.NaN)\n",
        "average_ranks = average_ranks.groupby([\"competition-num\", \"category\"]).apply(lambda x: (x-x.min())/(x.max()-x.min()))\n",
        "average_ranks = average_ranks.replace(np.NaN, -1)\n",
        "\n",
        "test_data[[\n",
        "  \"fun-rank\",\n",
        "  \"innovation-rank\",\n",
        "  \"theme-rank\",\n",
        "  \"graphics-rank\",\n",
        "  # \"audio-rank\",\n",
        "  \"humor-rank\",\n",
        "  \"mood-rank\"\n",
        "]] = average_ranks\n",
        "\n",
        "# ----------\n",
        "\n",
        "relevant_cols += ['score_average', 'score_std', 'score_max', 'score_min', 'score_percentile']\n",
        "\n",
        "# Drop a couple features that aren't relevant beyond feature engineering\n",
        "train_data.drop('competition-num', axis=1, inplace=True)\n",
        "test_data.drop('competition-num', axis=1, inplace=True)\n",
        "\n",
        "relevant_cols.remove('competition-num')\n",
        "\n",
        "train_data.drop('category', axis=1, inplace=True)\n",
        "test_data.drop('category', axis=1, inplace=True)\n",
        "\n",
        "relevant_cols.remove('category')"
      ],
      "execution_count": 6,
      "outputs": []
    },
    {
      "cell_type": "code",
      "metadata": {
        "id": "9AwloopQQ5nV",
        "colab_type": "code",
        "colab": {}
      },
      "source": [
        "# Redefine our train and test datasets for use in validation vs actual predictions\n",
        "# Validation in this context refers to simulating a train-test split on the training data,\n",
        "# rather than actually predicting on the test dataset, the labels of which are unknown\n",
        "\n",
        "# # For validation\n",
        "# from sklearn.model_selection import train_test_split\n",
        "# X_train, X_valid, Y_train, Y_valid = train_test_split(train_data, train_labels, random_state=0, test_size=0.22)\n",
        "\n",
        "# For actual testing\n",
        "X_train, Y_train = train_data, train_labels"
      ],
      "execution_count": 7,
      "outputs": []
    },
    {
      "cell_type": "code",
      "metadata": {
        "id": "mMlPmykRNqjN",
        "colab_type": "code",
        "colab": {}
      },
      "source": [
        "# Construct LGBM wrappers for our datasets\n",
        "\n",
        "# For testing and validation\n",
        "lgbm_train = lgbm.Dataset(X_train, Y_train, feature_name=relevant_cols)\n",
        "\n",
        "# # For validation only\n",
        "# lgbm_val = lgbm.Dataset(X_valid, Y_valid, feature_name=relevant_cols)"
      ],
      "execution_count": 8,
      "outputs": []
    },
    {
      "cell_type": "code",
      "metadata": {
        "id": "wfUXEu96MRnJ",
        "colab_type": "code",
        "colab": {}
      },
      "source": [
        "# Hyperparameters for LGBM\n",
        "\n",
        "lgbm_params =  {\n",
        "    'task': 'train',\n",
        "\n",
        "    'boosting_type': 'gbdt',\n",
        "\n",
        "    'objective': 'multiclass',\n",
        "    'num_class': 6, # 6 classes, for 0, ..., 5\n",
        "\n",
        "    'metric': ['multi_error', 'multi_logloss'],\n",
        "\n",
        "    \"learning_rate\": 0.00447,\n",
        "}"
      ],
      "execution_count": 9,
      "outputs": []
    },
    {
      "cell_type": "code",
      "metadata": {
        "id": "uYFph5gLNF9V",
        "colab_type": "code",
        "colab": {
          "base_uri": "https://localhost:8080/",
          "height": 360
        },
        "outputId": "6e35bcb4-4105-4e77-9d6b-b6166530ccc9"
      },
      "source": [
        "# Perform cross-validation with the LGBM hyperparameters\n",
        "# to determine the optimal boosting round\n",
        "\n",
        "lgbm_cv = lgbm.cv(\n",
        "    params = lgbm_params,\n",
        "    train_set = lgbm_train,\n",
        "    num_boost_round=2000,\n",
        "    stratified=True,\n",
        "    nfold = 5,\n",
        "    verbose_eval=50,\n",
        "    seed = 0,\n",
        "    early_stopping_rounds=150,\n",
        "    feature_name=relevant_cols,\n",
        "    shuffle=True\n",
        "    )"
      ],
      "execution_count": 10,
      "outputs": [
        {
          "output_type": "stream",
          "text": [
            "/usr/local/lib/python3.6/dist-packages/sklearn/model_selection/_split.py:667: UserWarning: The least populated class in y has only 1 members, which is less than n_splits=5.\n",
            "  % (min_groups, self.n_splits)), UserWarning)\n"
          ],
          "name": "stderr"
        },
        {
          "output_type": "stream",
          "text": [
            "[50]\tcv_agg's multi_logloss: 0.895848 + 0.00436081\tcv_agg's multi_error: 0.0912612 + 0.00176584\n",
            "[100]\tcv_agg's multi_logloss: 0.71955 + 0.00539812\tcv_agg's multi_error: 0.0713959 + 0.00389809\n",
            "[150]\tcv_agg's multi_logloss: 0.591386 + 0.00612156\tcv_agg's multi_error: 0.0645161 + 0.00383178\n",
            "[200]\tcv_agg's multi_logloss: 0.494947 + 0.00679251\tcv_agg's multi_error: 0.062648 + 0.00485945\n",
            "[250]\tcv_agg's multi_logloss: 0.421395 + 0.00733776\tcv_agg's multi_error: 0.0618735 + 0.00607945\n",
            "[300]\tcv_agg's multi_logloss: 0.36467 + 0.00793293\tcv_agg's multi_error: 0.0612357 + 0.00625599\n",
            "[350]\tcv_agg's multi_logloss: 0.320332 + 0.00846568\tcv_agg's multi_error: 0.0606433 + 0.00631677\n",
            "[400]\tcv_agg's multi_logloss: 0.285422 + 0.00896468\tcv_agg's multi_error: 0.0599598 + 0.00610437\n",
            "[450]\tcv_agg's multi_logloss: 0.257903 + 0.00933798\tcv_agg's multi_error: 0.0599144 + 0.00556548\n",
            "[500]\tcv_agg's multi_logloss: 0.236025 + 0.00970168\tcv_agg's multi_error: 0.0592309 + 0.00521693\n",
            "[550]\tcv_agg's multi_logloss: 0.21871 + 0.0100418\tcv_agg's multi_error: 0.0588664 + 0.00559189\n",
            "[600]\tcv_agg's multi_logloss: 0.204814 + 0.0102901\tcv_agg's multi_error: 0.0584563 + 0.00533725\n",
            "[650]\tcv_agg's multi_logloss: 0.193693 + 0.01053\tcv_agg's multi_error: 0.0579551 + 0.00547533\n",
            "[700]\tcv_agg's multi_logloss: 0.184835 + 0.0106851\tcv_agg's multi_error: 0.0579551 + 0.00561405\n",
            "[750]\tcv_agg's multi_logloss: 0.177616 + 0.0107654\tcv_agg's multi_error: 0.0579095 + 0.00497674\n",
            "[800]\tcv_agg's multi_logloss: 0.17179 + 0.0108935\tcv_agg's multi_error: 0.0581374 + 0.0051609\n",
            "[850]\tcv_agg's multi_logloss: 0.167102 + 0.0110606\tcv_agg's multi_error: 0.0583196 + 0.00506725\n"
          ],
          "name": "stdout"
        }
      ]
    },
    {
      "cell_type": "code",
      "metadata": {
        "id": "RvQd3mE5NXA2",
        "colab_type": "code",
        "colab": {
          "base_uri": "https://localhost:8080/",
          "height": 102
        },
        "outputId": "b301985e-7c0a-4db0-dcd1-4f3cecd5b87d"
      },
      "source": [
        "# Determine and report errors from cross validation\n",
        "# as well as the optimal number of rounds\n",
        "\n",
        "multi_error = lgbm_params[\"metric\"][0]\n",
        "best_multi_error = min(lgbm_cv[str(multi_error) + '-mean'])\n",
        "\n",
        "multi_logloss = lgbm_params[\"metric\"][1]\n",
        "best_multi_logloss = min(lgbm_cv[str(multi_logloss) + '-mean'])\n",
        "\n",
        "optimal_rounds = np.argmin(lgbm_cv[str(multi_error) + '-mean'])\n",
        "\n",
        "print(\"\\nOptimal Round: {}\\nOptimal Scores:\\nmulti_error -- {} + {},\\nmulti_logloss -- {} + {}\".format(\n",
        "    optimal_rounds,\n",
        "    best_multi_error,\n",
        "    lgbm_cv[str(multi_error) + '-stdv'][optimal_rounds],\n",
        "    best_multi_logloss,\n",
        "    lgbm_cv[str(multi_logloss) + '-stdv'][optimal_rounds]\n",
        "))"
      ],
      "execution_count": 11,
      "outputs": [
        {
          "output_type": "stream",
          "text": [
            "\n",
            "Optimal Round: 738\n",
            "Optimal Scores:\n",
            "multi_error -- 0.05786398072215121 + 0.005133976605571282,\n",
            "multi_logloss -- 0.179062138421643 + 0.010756638330667076\n"
          ],
          "name": "stdout"
        }
      ]
    },
    {
      "cell_type": "code",
      "metadata": {
        "id": "zYUBKJ3bO2cv",
        "colab_type": "code",
        "colab": {
          "base_uri": "https://localhost:8080/",
          "height": 136
        },
        "outputId": "96facb83-561e-4fbd-9004-752d78ee4bd0"
      },
      "source": [
        "# Train the final LGBM model with the chosen hyperparameters\n",
        "# and optimal number of rounds\n",
        "\n",
        "lgbm_final = lgbm.train(\n",
        "        lgbm_params,\n",
        "        lgbm_train,\n",
        "        num_boost_round=optimal_rounds + 1,\n",
        "        valid_sets=lgbm_train,\n",
        "        feature_name=relevant_cols,\n",
        "        verbose_eval=100,\n",
        ")"
      ],
      "execution_count": 12,
      "outputs": [
        {
          "output_type": "stream",
          "text": [
            "[100]\ttraining's multi_logloss: 0.70524\ttraining's multi_error: 0.0633315\n",
            "[200]\ttraining's multi_logloss: 0.473775\ttraining's multi_error: 0.0518954\n",
            "[300]\ttraining's multi_logloss: 0.337933\ttraining's multi_error: 0.0474759\n",
            "[400]\ttraining's multi_logloss: 0.253884\ttraining's multi_error: 0.0442865\n",
            "[500]\ttraining's multi_logloss: 0.199988\ttraining's multi_error: 0.0417806\n",
            "[600]\ttraining's multi_logloss: 0.164388\ttraining's multi_error: 0.0404137\n",
            "[700]\ttraining's multi_logloss: 0.140249\ttraining's multi_error: 0.0389557\n"
          ],
          "name": "stdout"
        }
      ]
    },
    {
      "cell_type": "code",
      "metadata": {
        "id": "r_ayaQahPUo1",
        "colab_type": "code",
        "colab": {}
      },
      "source": [
        "# Predict ratings using the trained LGBM model\n",
        "# For testset\n",
        "predictions = pd.DataFrame(lgbm_final.predict(test_data)).idxmax(axis=1)\n",
        "\n",
        "# # For predicting on validation set\n",
        "# predictions = pd.DataFrame(lgbm_final.predict(X_valid)).idxmax(axis=1)"
      ],
      "execution_count": 13,
      "outputs": []
    },
    {
      "cell_type": "code",
      "metadata": {
        "id": "ArwtQsfSS6mt",
        "colab_type": "code",
        "colab": {}
      },
      "source": [
        "# # For validation, report the performance\n",
        "# # Comment this out for the actual test dataset\n",
        "\n",
        "# predictions.reset_index(drop=True, inplace=True)\n",
        "# Y_valid.reset_index(drop=True, inplace=True)\n",
        "\n",
        "# from sklearn.metrics import accuracy_score\n",
        "# print('accuracy_score: {}'.format(accuracy_score(predictions, Y_valid)))\n",
        "\n",
        "# from sklearn.metrics import precision_recall_fscore_support as score\n",
        "# precision, recall, fscore, support = score(Y_valid, predictions, average=None, zero_division=1,\n",
        "# labels=[0, 1, 2, 3, 4, 5])\n",
        "\n",
        "# stats_df = pd.DataFrame(data=[precision, recall, fscore, support],\n",
        "#                   index=['precision', 'recall', 'fscore', 'support'])\n",
        "\n",
        "# print(stats_df)"
      ],
      "execution_count": 14,
      "outputs": []
    },
    {
      "cell_type": "code",
      "metadata": {
        "id": "EL-yDTvXHEsd",
        "colab_type": "code",
        "colab": {
          "base_uri": "https://localhost:8080/",
          "height": 893
        },
        "outputId": "0602c08b-3991-43b9-d783-c5c927678d98"
      },
      "source": [
        "# Report relative feature importances\n",
        "\n",
        "ax = lgbm.plot_importance(lgbm_final, figsize=(15,15))"
      ],
      "execution_count": 15,
      "outputs": [
        {
          "output_type": "display_data",
          "data": {
            "image/png": "[encoded data removed]",
            "text/plain": [
              "<Figure size 1080x1080 with 1 Axes>"
            ]
          },
          "metadata": {
            "tags": [],
            "needs_background": "light"
          }
        }
      ]
    },
    {
      "cell_type": "code",
      "metadata": {
        "id": "9gm4Dy_NX1ag",
        "colab_type": "code",
        "colab": {
          "base_uri": "https://localhost:8080/",
          "height": 119
        },
        "outputId": "e1fee5a7-1d07-401d-99af-8e481f4dacff"
      },
      "source": [
        "predictions.tail()"
      ],
      "execution_count": 16,
      "outputs": [
        {
          "output_type": "execute_result",
          "data": {
            "text/plain": [
              "4954    4\n",
              "4955    4\n",
              "4956    4\n",
              "4957    4\n",
              "4958    4\n",
              "dtype: int64"
            ]
          },
          "metadata": {
            "tags": []
          },
          "execution_count": 16
        }
      ]
    },
    {
      "cell_type": "code",
      "metadata": {
        "id": "6mImwuXuYPMN",
        "colab_type": "code",
        "colab": {
          "base_uri": "https://localhost:8080/",
          "height": 204
        },
        "outputId": "c5c816ad-0a36-4aaf-d51f-231b54146133"
      },
      "source": [
        "res = pd.concat([test_indices, predictions], axis=1, keys=['id', 'label'])\n",
        "res.tail()"
      ],
      "execution_count": 17,
      "outputs": [
        {
          "output_type": "execute_result",
          "data": {
            "text/html": [
              "<div>\n",
              "<style scoped>\n",
              "    .dataframe tbody tr th:only-of-type {\n",
              "        vertical-align: middle;\n",
              "    }\n",
              "\n",
              "    .dataframe tbody tr th {\n",
              "        vertical-align: top;\n",
              "    }\n",
              "\n",
              "    .dataframe thead th {\n",
              "        text-align: right;\n",
              "    }\n",
              "</style>\n",
              "<table border=\"1\" class=\"dataframe\">\n",
              "  <thead>\n",
              "    <tr style=\"text-align: right;\">\n",
              "      <th></th>\n",
              "      <th>id</th>\n",
              "      <th>label</th>\n",
              "    </tr>\n",
              "  </thead>\n",
              "  <tbody>\n",
              "    <tr>\n",
              "      <th>4954</th>\n",
              "      <td>199422</td>\n",
              "      <td>4</td>\n",
              "    </tr>\n",
              "    <tr>\n",
              "      <th>4955</th>\n",
              "      <td>199706</td>\n",
              "      <td>4</td>\n",
              "    </tr>\n",
              "    <tr>\n",
              "      <th>4956</th>\n",
              "      <td>200853</td>\n",
              "      <td>4</td>\n",
              "    </tr>\n",
              "    <tr>\n",
              "      <th>4957</th>\n",
              "      <td>201502</td>\n",
              "      <td>4</td>\n",
              "    </tr>\n",
              "    <tr>\n",
              "      <th>4958</th>\n",
              "      <td>202646</td>\n",
              "      <td>4</td>\n",
              "    </tr>\n",
              "  </tbody>\n",
              "</table>\n",
              "</div>"
            ],
            "text/plain": [
              "          id  label\n",
              "4954  199422      4\n",
              "4955  199706      4\n",
              "4956  200853      4\n",
              "4957  201502      4\n",
              "4958  202646      4"
            ]
          },
          "metadata": {
            "tags": []
          },
          "execution_count": 17
        }
      ]
    },
    {
      "cell_type": "code",
      "metadata": {
        "id": "BQQgJdevZIh1",
        "colab_type": "code",
        "colab": {}
      },
      "source": [
        "# Write predictions to CSV\n",
        "\n",
        "res.to_csv('predictions.csv', index=False)  "
      ],
      "execution_count": 18,
      "outputs": []
    }
  ]
}